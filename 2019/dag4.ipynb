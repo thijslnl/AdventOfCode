{
 "cells": [
  {
   "cell_type": "code",
   "execution_count": 2,
   "metadata": {},
   "outputs": [],
   "source": [
    "import numpy as np\n",
    "import collections\n",
    "top, bottom = 271973, 785961"
   ]
  },
  {
   "cell_type": "code",
   "execution_count": 6,
   "metadata": {},
   "outputs": [
    {
     "name": "stdout",
     "output_type": "stream",
     "text": [
      "607\n"
     ]
    }
   ],
   "source": [
    "passwords = []\n",
    "for i in range(top, bottom+1):\n",
    "    si =str(i)\n",
    "    duplicate = 0\n",
    "    asc = 1\n",
    "    for x in range(5):\n",
    "        if si[x] > si[x+1]:\n",
    "            asc = 0\n",
    "    if asc == 1:\n",
    "        counts = [[item, count] for item, count in collections.Counter(list(si)).items() if count == 2]\n",
    "        if len(counts) >= 1:\n",
    "            duplicate = 1\n",
    "        \n",
    "    if duplicate == 1 and asc == 1:\n",
    "        passwords.append(str(i))\n",
    "print(len(passwords))"
   ]
  },
  {
   "cell_type": "code",
   "execution_count": null,
   "metadata": {},
   "outputs": [],
   "source": []
  }
 ],
 "metadata": {
  "kernelspec": {
   "display_name": "Python 3",
   "language": "python",
   "name": "python3"
  },
  "language_info": {
   "codemirror_mode": {
    "name": "ipython",
    "version": 3
   },
   "file_extension": ".py",
   "mimetype": "text/x-python",
   "name": "python",
   "nbconvert_exporter": "python",
   "pygments_lexer": "ipython3",
   "version": "3.7.3"
  }
 },
 "nbformat": 4,
 "nbformat_minor": 2
}
