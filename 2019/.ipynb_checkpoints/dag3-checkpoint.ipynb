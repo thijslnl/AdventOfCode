{
 "cells": [
  {
   "cell_type": "code",
   "execution_count": 10,
   "metadata": {},
   "outputs": [],
   "source": [
    "import numpy as np\n",
    "import collections\n",
    "data = [line.rstrip('\\n') for line in open('input/3.txt')]\n",
    "lines = [x.split(',') for x in data]"
   ]
  },
  {
   "cell_type": "code",
   "execution_count": 19,
   "metadata": {},
   "outputs": [
    {
     "name": "stdout",
     "output_type": "stream",
     "text": [
      "1064 (-37, 1027)\n"
     ]
    }
   ],
   "source": [
    "points = []\n",
    "for i, line in enumerate(lines):\n",
    "    x, y = 0,0\n",
    "    #points.append(list())\n",
    "    for item in line:\n",
    "        dr = item[0]\n",
    "        steps = int(item[1:])\n",
    "        for _ in range(steps):\n",
    "            if dr == 'R':\n",
    "                x += 1\n",
    "            elif dr == 'L':\n",
    "                x -= 1\n",
    "            elif dr == 'U':\n",
    "                y += 1\n",
    "            elif dr == 'D':\n",
    "                y -= 1\n",
    "            points.append((x,y))\n",
    "points = [item for item, count in collections.Counter(points).items() if count > 1]\n",
    "distance = 10000*10000\n",
    "closest = None\n",
    "for point in points:\n",
    "    if abs(point[0])+abs(point[1]) < distance:\n",
    "        distance = abs(point[0])+abs(point[1])\n",
    "        closest = point\n",
    "print(distance, closest)"
   ]
  },
  {
   "cell_type": "code",
   "execution_count": 26,
   "metadata": {},
   "outputs": [
    {
     "name": "stdout",
     "output_type": "stream",
     "text": [
      "(-144, -2325)\n",
      "(-14, -2323)\n",
      "(-157, 1027)\n",
      "(-244, -2917)\n",
      "(64, -3217)\n",
      "(-981, 828)\n",
      "(128, -2895)\n",
      "(-157, 1055)\n",
      "(-37, 1695)\n",
      "(-37, 1055)\n",
      "(-749, 801)\n",
      "(38, -1990)\n",
      "(-144, -2286)\n",
      "(140, 1763)\n",
      "(617, -2356)\n",
      "(889, -3434)\n",
      "(-26, -2286)\n",
      "(172, -2131)\n",
      "(-1003, 828)\n",
      "(570, -3101)\n",
      "(140, 2328)\n",
      "(-560, -2917)\n",
      "(-244, -2325)\n",
      "(-297, 801)\n",
      "(38, -2131)\n",
      "(128, -3101)\n",
      "(-37, 1027)\n",
      "(128, -2948)\n",
      "(-14, -2131)\n",
      "(-14, -2356)\n",
      "(-26, -2296)\n",
      "(64, -3180)\n",
      "(-144, -2296)\n",
      "(-91, 2578)\n",
      "(-244, -2286)\n",
      "(-244, -2895)\n",
      "(-560, -2681)\n",
      "(155, -1990)\n",
      "(-159, 1485)\n",
      "(128, -2856)\n",
      "(-297, 936)\n",
      "(479, -1968)\n",
      "(140, 2520)\n",
      "(-381, -3275)\n",
      "(38, -2323)\n",
      "(155, -1930)\n",
      "(-244, -2296)\n",
      "25676 (140, 1763)\n"
     ]
    }
   ],
   "source": [
    "all_points = []\n",
    "points = []\n",
    "for i, line in enumerate(lines):\n",
    "    x, y = 0,0\n",
    "    points.append(list())\n",
    "    for item in line:\n",
    "        dr = item[0]\n",
    "        steps = int(item[1:])\n",
    "        for _ in range(steps):\n",
    "            if dr == 'R':\n",
    "                x += 1\n",
    "            elif dr == 'L':\n",
    "                x -= 1\n",
    "            elif dr == 'U':\n",
    "                y += 1\n",
    "            elif dr == 'D':\n",
    "                y -= 1\n",
    "            points[i].append((x,y))\n",
    "            all_points.append((x,y))\n",
    "crosses = set(points[0]).intersection(points[1])\n",
    "#crosses = [item for item, count in collections.Counter(all_points).items() if count > 1]\n",
    "cross_indices = []\n",
    "total_steps = 10000000\n",
    "closest = None\n",
    "for cross in crosses:\n",
    "    print(cross)\n",
    "    index0 = points[0].index(cross)+1\n",
    "    index1 = points[1].index(cross)+1\n",
    "    if index0 + index1 < total_steps:\n",
    "        total_steps = index0+index1\n",
    "        closest = cross\n",
    "print(total_steps, closest)"
   ]
  },
  {
   "cell_type": "code",
   "execution_count": null,
   "metadata": {},
   "outputs": [],
   "source": []
  }
 ],
 "metadata": {
  "kernelspec": {
   "display_name": "Python 3",
   "language": "python",
   "name": "python3"
  },
  "language_info": {
   "codemirror_mode": {
    "name": "ipython",
    "version": 3
   },
   "file_extension": ".py",
   "mimetype": "text/x-python",
   "name": "python",
   "nbconvert_exporter": "python",
   "pygments_lexer": "ipython3",
   "version": "3.7.3"
  }
 },
 "nbformat": 4,
 "nbformat_minor": 2
}
