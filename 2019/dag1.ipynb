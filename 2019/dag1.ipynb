{
 "cells": [
  {
   "cell_type": "code",
   "execution_count": 15,
   "metadata": {},
   "outputs": [],
   "source": [
    "data = [line.rstrip('\\n') for line in open('input/1.txt')]"
   ]
  },
  {
   "cell_type": "code",
   "execution_count": 16,
   "metadata": {},
   "outputs": [
    {
     "name": "stdout",
     "output_type": "stream",
     "text": [
      "3399947\n"
     ]
    }
   ],
   "source": [
    "import math\n",
    "import numpy as np\n",
    "prob1 = [math.floor(int(x)/3)-2 for x in data]\n",
    "print(np.sum(prob1))"
   ]
  },
  {
   "cell_type": "code",
   "execution_count": 21,
   "metadata": {},
   "outputs": [
    {
     "name": "stdout",
     "output_type": "stream",
     "text": [
      "5097039\n"
     ]
    }
   ],
   "source": [
    "def f(x):\n",
    "    fm = max(math.floor(int(x)/3)-2,0)\n",
    "    if fm > 0:\n",
    "        fm += f(fm)\n",
    "    return fm\n",
    "prob2 = np.vectorize(f)(data)\n",
    "print(np.sum(prob2))"
   ]
  },
  {
   "cell_type": "code",
   "execution_count": null,
   "metadata": {},
   "outputs": [],
   "source": []
  }
 ],
 "metadata": {
  "kernelspec": {
   "display_name": "Python 3",
   "language": "python",
   "name": "python3"
  },
  "language_info": {
   "codemirror_mode": {
    "name": "ipython",
    "version": 3
   },
   "file_extension": ".py",
   "mimetype": "text/x-python",
   "name": "python",
   "nbconvert_exporter": "python",
   "pygments_lexer": "ipython3",
   "version": "3.7.3"
  }
 },
 "nbformat": 4,
 "nbformat_minor": 2
}
