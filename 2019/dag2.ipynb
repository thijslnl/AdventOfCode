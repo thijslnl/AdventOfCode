{
 "cells": [
  {
   "cell_type": "code",
   "execution_count": 46,
   "metadata": {},
   "outputs": [],
   "source": [
    "import numpy as np\n",
    "data = [line.rstrip('\\n') for line in open('input/2.txt')]\n",
    "ints = list(map(int, data[0].split(',')))"
   ]
  },
  {
   "cell_type": "code",
   "execution_count": 43,
   "metadata": {
    "scrolled": false
   },
   "outputs": [
    {
     "name": "stdout",
     "output_type": "stream",
     "text": [
      "3562672\n"
     ]
    }
   ],
   "source": [
    "i=0\n",
    "ints_1 = ints.copy()\n",
    "ints_1[1:3] = [12,2]\n",
    "while i<=len(ints_1):\n",
    "    int1 = ints_1[i+1]\n",
    "    int2 = ints_1[i+2]\n",
    "    int3 = ints_1[i+3]\n",
    "    if ints_1[i] == 99:\n",
    "        break\n",
    "    elif ints_1[i] == 1:\n",
    "        ints_1[int3] = ints_1[int1]+ints_1[int2]\n",
    "    elif ints_1[i] == 2:\n",
    "        ints_1[int3] = ints_1[int1]*ints_1[int2]\n",
    "    i += 4\n",
    "print(ints_1[0])"
   ]
  },
  {
   "cell_type": "code",
   "execution_count": 59,
   "metadata": {},
   "outputs": [
    {
     "name": "stdout",
     "output_type": "stream",
     "text": [
      "8250\n"
     ]
    }
   ],
   "source": [
    "for noun in range(0,100):\n",
    "    for verb in range(0,100):\n",
    "        i = 0\n",
    "        ints_1 = ints.copy()\n",
    "        ints_1[1:3] = [noun,verb]\n",
    "        while i<=len(ints_1):\n",
    "            int1 = ints_1[i+1]\n",
    "            int2 = ints_1[i+2]\n",
    "            int3 = ints_1[i+3]\n",
    "            if ints_1[i] == 99:\n",
    "                break\n",
    "            elif ints_1[i] == 1:\n",
    "                ints_1[int3] = ints_1[int1]+ints_1[int2]\n",
    "            elif ints_1[i] == 2:\n",
    "                ints_1[int3] = ints_1[int1]*ints_1[int2]\n",
    "            i += 4\n",
    "        if ints_1[0] == 19690720:\n",
    "            break\n",
    "    if ints_1[0] == 19690720:\n",
    "        break\n",
    "print(100*noun+verb)"
   ]
  },
  {
   "cell_type": "code",
   "execution_count": null,
   "metadata": {},
   "outputs": [],
   "source": []
  }
 ],
 "metadata": {
  "kernelspec": {
   "display_name": "Python 3",
   "language": "python",
   "name": "python3"
  },
  "language_info": {
   "codemirror_mode": {
    "name": "ipython",
    "version": 3
   },
   "file_extension": ".py",
   "mimetype": "text/x-python",
   "name": "python",
   "nbconvert_exporter": "python",
   "pygments_lexer": "ipython3",
   "version": "3.7.3"
  }
 },
 "nbformat": 4,
 "nbformat_minor": 2
}
