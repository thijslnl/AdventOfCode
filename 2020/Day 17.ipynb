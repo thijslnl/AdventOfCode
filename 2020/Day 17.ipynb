{
 "cells": [
  {
   "cell_type": "code",
   "execution_count": 7,
   "metadata": {},
   "outputs": [],
   "source": [
    "import numpy as np\n",
    "def read_file(name):\n",
    "    return [line.rstrip('\\n').replace('#', '1').replace('.', '0') for line in open(name)]"
   ]
  },
  {
   "cell_type": "code",
   "execution_count": 69,
   "metadata": {},
   "outputs": [
    {
     "name": "stdout",
     "output_type": "stream",
     "text": [
      "471 ms ± 8.39 ms per loop (mean ± std. dev. of 7 runs, 1 loop each)\n"
     ]
    },
    {
     "data": {
      "text/plain": [
       "230"
      ]
     },
     "execution_count": 69,
     "metadata": {},
     "output_type": "execute_result"
    }
   ],
   "source": [
    "def extend_data_3d(data, cycles):\n",
    "    cube = np.zeros((len(data[0])+2*cycles,len(data)+2*cycles,1+2*cycles))\n",
    "    check = cube[cycles:cycles+len(data[0]),cycles:cycles+len(data),cycles]\n",
    "    for i, r in enumerate(data):\n",
    "        for p, c in enumerate(r):\n",
    "            check[i,p] = c\n",
    "    return cube\n",
    "\n",
    "def run_state_change_3d(cube):\n",
    "    new_state = cube.copy()\n",
    "    directions = []\n",
    "    for x in range(-1,2,1):\n",
    "        for y in range(-1,2,1):\n",
    "            for z in range(-1,2,1):\n",
    "                if not (x == 0 and y == 0 and z == 0):\n",
    "                    directions.append([x,y,z])\n",
    "    for ri, r in enumerate(cube):\n",
    "        for ci, c in enumerate(r):\n",
    "            for zi, z in enumerate(c):\n",
    "                check_list = []\n",
    "                for direction in directions:\n",
    "                    sri = ri+direction[1]\n",
    "                    sci = ci+direction[0]\n",
    "                    szi = zi+direction[2]\n",
    "                    if (0 <= sri < len(cube)) and (0 <= sci < len(r)) and (0 <= szi < len(c)):\n",
    "                        check_list.append(cube[sri,sci,szi])\n",
    "                if sum(check_list) not in [2,3] and z == 1:\n",
    "                    new_state[ri,ci,zi] = 0\n",
    "                if sum(check_list) == 3 and z == 0:\n",
    "                    new_state[ri,ci,zi] = 1\n",
    "    return new_state\n",
    "\n",
    "def day17a(cube, cycles):\n",
    "    for cycle in range(cycles):\n",
    "        cube = run_state_change_3d(cube)\n",
    "    return np.sum(cube, dtype=np.int64)\n",
    "%timeit day17a(extend_data_3d(read_file('input/17.txt'), 6), 6)\n",
    "day17a(extend_data_3d(read_file('input/17.txt'), 6), 6)"
   ]
  },
  {
   "cell_type": "code",
   "execution_count": 85,
   "metadata": {},
   "outputs": [
    {
     "data": {
      "text/plain": [
       "1600"
      ]
     },
     "execution_count": 85,
     "metadata": {},
     "output_type": "execute_result"
    }
   ],
   "source": [
    "def extend_data_4d(data, cycles):\n",
    "    cube = np.zeros((len(data[0])+2*cycles,len(data)+2*cycles,1+2*cycles,1+2*cycles))\n",
    "    check = cube[cycles:cycles+len(data[0]),cycles:cycles+len(data),cycles, cycles]\n",
    "    for i, r in enumerate(data):\n",
    "        for p, c in enumerate(r):\n",
    "            check[i,p] = c\n",
    "    return cube\n",
    "\n",
    "def run_state_change_4d(cube):\n",
    "    new_state = cube.copy()\n",
    "    directions = []\n",
    "    for x in range(-1,2,1):\n",
    "        for y in range(-1,2,1):\n",
    "            for z in range(-1,2,1):\n",
    "                for f in range(-1,2,1):\n",
    "                    if not (x == 0 and y == 0 and z == 0 and f == 0):\n",
    "                        directions.append([x,y,z,f])\n",
    "    for ri, r in enumerate(cube):\n",
    "        for ci, c in enumerate(r):\n",
    "            for zi, z in enumerate(c):\n",
    "                for fi, f in enumerate(z):\n",
    "                    check_list = []\n",
    "                    for direction in directions:\n",
    "                        sri = ri+direction[1]\n",
    "                        sci = ci+direction[0]\n",
    "                        szi = zi+direction[2]\n",
    "                        sfi = fi+direction[3]\n",
    "                        if (0 <= sri < len(cube)) and (0 <= sci < len(r)) and (0 <= szi < len(c)) and (0 <= sfi < len(z)):\n",
    "                            check_list.append(cube[sri,sci,szi,sfi])\n",
    "                    if sum(check_list) not in [2,3] and f == 1:\n",
    "                        new_state[ri,ci,zi, fi] = 0\n",
    "                    if sum(check_list) == 3 and f == 0:\n",
    "                        new_state[ri,ci,zi,fi] = 1\n",
    "    return new_state\n",
    "\n",
    "def day17b(cube, cycles):\n",
    "    for cycle in range(cycles):\n",
    "        cube = run_state_change_4d(cube)\n",
    "    return np.sum(cube, dtype=np.int64)\n",
    "#%timeit day17b(extend_data_4d(read_file('input/17.txt'), 6), 6)\n",
    "day17b(extend_data_4d(read_file('input/17.txt'), 6), 6)"
   ]
  },
  {
   "cell_type": "code",
   "execution_count": null,
   "metadata": {},
   "outputs": [],
   "source": []
  }
 ],
 "metadata": {
  "kernelspec": {
   "display_name": "Python 3",
   "language": "python",
   "name": "python3"
  },
  "language_info": {
   "codemirror_mode": {
    "name": "ipython",
    "version": 3
   },
   "file_extension": ".py",
   "mimetype": "text/x-python",
   "name": "python",
   "nbconvert_exporter": "python",
   "pygments_lexer": "ipython3",
   "version": "3.7.3"
  }
 },
 "nbformat": 4,
 "nbformat_minor": 2
}
