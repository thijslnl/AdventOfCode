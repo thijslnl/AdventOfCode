{
 "cells": [
  {
   "cell_type": "code",
   "execution_count": null,
   "metadata": {},
   "outputs": [],
   "source": [
    "fileName = 'input\\\\8.txt'\n",
    "data = [line.rstrip('\\n') for line in open(fileName)]"
   ]
  },
  {
   "cell_type": "code",
   "execution_count": null,
   "metadata": {},
   "outputs": [],
   "source": [
    "#prob1\n",
    "accumulator = 0\n",
    "instruction = []\n",
    "i = 0\n",
    "while i not in instruction:\n",
    "    inp = data[i].split(' ')\n",
    "    instruction.append(i)\n",
    "    if inp[0] == 'nop':\n",
    "        i += 1\n",
    "    elif inp[0] == 'acc':\n",
    "        accumulator += int(inp[1])\n",
    "        i += 1\n",
    "    elif inp[0] == 'jmp':\n",
    "        i += int(inp[1])\n",
    "print(accumulator)"
   ]
  },
  {
   "cell_type": "code",
   "execution_count": null,
   "metadata": {
    "scrolled": true
   },
   "outputs": [],
   "source": [
    "#prob2\n",
    "end = 0\n",
    "for c in range(len(data)):\n",
    "    i = 0\n",
    "    accumulator = 0\n",
    "    instruction = []\n",
    "    while i not in instruction:\n",
    "        if i == len(data):\n",
    "            end = 1\n",
    "            break\n",
    "        inp = data[i].split(' ')\n",
    "        if i == c:\n",
    "            if inp[0] == 'nop':\n",
    "                inp[0] = 'jmp'\n",
    "            elif inp[0] == 'jmp':\n",
    "                inp[0] = 'nop'\n",
    "        instruction.append(i)\n",
    "        if inp[0] == 'nop':\n",
    "            i += 1\n",
    "        elif inp[0] == 'acc':\n",
    "            accumulator += int(inp[1])\n",
    "            i += 1\n",
    "        elif inp[0] == 'jmp':\n",
    "            i += int(inp[1])\n",
    "    if end == 1:\n",
    "        break\n",
    "print(accumulator)"
   ]
  },
  {
   "cell_type": "code",
   "execution_count": null,
   "metadata": {},
   "outputs": [],
   "source": []
  }
 ],
 "metadata": {
  "kernelspec": {
   "display_name": "Python 3",
   "language": "python",
   "name": "python3"
  },
  "language_info": {
   "codemirror_mode": {
    "name": "ipython",
    "version": 3
   },
   "file_extension": ".py",
   "mimetype": "text/x-python",
   "name": "python",
   "nbconvert_exporter": "python",
   "pygments_lexer": "ipython3",
   "version": "3.7.3"
  }
 },
 "nbformat": 4,
 "nbformat_minor": 2
}
