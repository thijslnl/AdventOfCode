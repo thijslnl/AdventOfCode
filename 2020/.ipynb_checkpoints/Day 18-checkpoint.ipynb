{
 "cells": [
  {
   "cell_type": "code",
   "execution_count": 95,
   "metadata": {},
   "outputs": [],
   "source": [
    "import re\n",
    "import numpy as np\n",
    "\n",
    "def read_file(name):\n",
    "    return [line.rstrip('\\n') for line in open(name)]\n",
    "\n",
    "def structure_line(line):\n",
    "    group_of_groups = {0:[0]}\n",
    "    groups = ['']*(line.count(r'(')+1)\n",
    "    c_p = 0\n",
    "    c_i = 0\n",
    "    for i in [c for c in line if c != ' ']:\n",
    "        if i == \"(\":\n",
    "            c_p += 1\n",
    "            c_i += 1\n",
    "            if c_p not in group_of_groups:\n",
    "                group_of_groups[c_p] = []\n",
    "            group_of_groups[c_p].append(c_i)\n",
    "            groups[max(group_of_groups[c_p-1])] += 'group_' + str(max(group_of_groups[(c_p)]))\n",
    "        elif i == \")\":\n",
    "            c_p -= 1\n",
    "        else:\n",
    "            groups[max(group_of_groups[c_p])] += str(i)\n",
    "    groups.reverse()\n",
    "    return groups"
   ]
  },
  {
   "cell_type": "code",
   "execution_count": 100,
   "metadata": {
    "scrolled": true
   },
   "outputs": [
    {
     "name": "stdout",
     "output_type": "stream",
     "text": [
      "35.3 ms ± 1.22 ms per loop (mean ± std. dev. of 7 runs, 10 loops each)\n"
     ]
    },
    {
     "data": {
      "text/plain": [
       "1890866893020"
      ]
     },
     "execution_count": 100,
     "metadata": {},
     "output_type": "execute_result"
    }
   ],
   "source": [
    "def day18a():\n",
    "    data = read_file('input/18.txt')\n",
    "    #data = ['((2 + 4 * 9) * (6 + 9 * 8 + 6) + 6) + 2 + 4 * 2']\n",
    "    values = []\n",
    "    for line in data:\n",
    "        groups = structure_line(line)\n",
    "        group_names = {}\n",
    "        for i, group in enumerate(groups):\n",
    "            for k,v in group_names.items():\n",
    "                group = group.replace(k,str(v))\n",
    "            group_num = len(groups)-i-1\n",
    "            while '*' in group or '+' in group:\n",
    "                part = re.search('([0-9]+[+*])([0-9]+)', group)\n",
    "                group = str(eval(group[part.start():part.end()]))+group[part.end():]\n",
    "            group_names['group_'+str(group_num)] = int(group)\n",
    "        values.append(group_names['group_0'])\n",
    "    return np.sum(values, dtype=np.int64)\n",
    "%timeit day18a()\n",
    "day18a()"
   ]
  },
  {
   "cell_type": "code",
   "execution_count": null,
   "metadata": {},
   "outputs": [],
   "source": [
    "def day18b():\n",
    "    data = read_file('input/18.txt')\n",
    "    #data = ['((2 + 4 * 9) * (6 + 9 * 8 + 6) + 6) + 2 + 4 * 2']\n",
    "    values = []\n",
    "    for line in data:\n",
    "        groups = structure_line(line)\n",
    "        group_names = {}\n",
    "        for i, group in enumerate(groups):\n",
    "            for k,v in group_names.items():\n",
    "                group = group.replace(k,str(v))\n",
    "            group_num = len(groups)-i-1\n",
    "            while '+' in group:\n",
    "                part = re.search('([0-9]+[+])([0-9]+)', group)\n",
    "                group = group[:part.start()]+str(eval(group[part.start():part.end()]))+group[part.end():]\n",
    "            while '*' in group:\n",
    "                part = re.search('([0-9]+[*])([0-9]+)', group)\n",
    "                group = group[:part.start()]+str(eval(group[part.start():part.end()]))+group[part.end():]\n",
    "            group_names['group_'+str(group_num)] = int(group)\n",
    "        values.append(group_names['group_0'])\n",
    "    return np.sum(values, dtype=np.int64)\n",
    "%timeit day18b()\n",
    "day18b()"
   ]
  },
  {
   "cell_type": "code",
   "execution_count": null,
   "metadata": {},
   "outputs": [],
   "source": []
  }
 ],
 "metadata": {
  "kernelspec": {
   "display_name": "Python 3",
   "language": "python",
   "name": "python3"
  },
  "language_info": {
   "codemirror_mode": {
    "name": "ipython",
    "version": 3
   },
   "file_extension": ".py",
   "mimetype": "text/x-python",
   "name": "python",
   "nbconvert_exporter": "python",
   "pygments_lexer": "ipython3",
   "version": "3.7.3"
  }
 },
 "nbformat": 4,
 "nbformat_minor": 2
}
