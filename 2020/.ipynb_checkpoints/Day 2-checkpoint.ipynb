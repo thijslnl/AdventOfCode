{
 "cells": [
  {
   "cell_type": "code",
   "execution_count": 3,
   "metadata": {},
   "outputs": [],
   "source": [
    "def read_file(name):\n",
    "    return [line.rstrip('\\n') for line in open(name)]"
   ]
  },
  {
   "cell_type": "code",
   "execution_count": 6,
   "metadata": {},
   "outputs": [
    {
     "name": "stdout",
     "output_type": "stream",
     "text": [
      "1.15 ms ± 12 µs per loop (mean ± std. dev. of 7 runs, 1000 loops each)\n",
      "416\n"
     ]
    }
   ],
   "source": [
    "def day2a(data):\n",
    "    c_p = 0\n",
    "    for l in data:\n",
    "        cont = l.split(\" \")\n",
    "        limits = cont[0].split(\"-\")\n",
    "        let = cont[1].rstrip(':')\n",
    "        if int(limits[0]) <= cont[2].count(let) <= int(limits[1]):\n",
    "            c_p +=1\n",
    "    return c_p\n",
    "\n",
    "%timeit day2a(read_file('input/2.txt'))\n",
    "print(day2a(read_file('input/2.txt')))"
   ]
  },
  {
   "cell_type": "code",
   "execution_count": 9,
   "metadata": {
    "scrolled": true
   },
   "outputs": [
    {
     "name": "stdout",
     "output_type": "stream",
     "text": [
      "1.36 ms ± 24 µs per loop (mean ± std. dev. of 7 runs, 1000 loops each)\n",
      "688\n"
     ]
    }
   ],
   "source": [
    "def day2b(data):\n",
    "    c_p = 0\n",
    "    for l in data:\n",
    "        cont = l.split(\" \")\n",
    "        limits = cont[0].split(\"-\")\n",
    "        let = cont[1].rstrip(':')\n",
    "        if len(cont[2])>=int(limits[1]):\n",
    "            if (cont[2][int(limits[0])-1] == let) ^ (cont[2][int(limits[1])-1] == let):\n",
    "                c_p+=1\n",
    "        else:\n",
    "            if (cont[2][int(limits[0])-1] == let):\n",
    "                c_p+=1\n",
    "    return c_p\n",
    "%timeit day2b(read_file('input/2.txt'))\n",
    "print(day2b(read_file('input/2.txt')))"
   ]
  },
  {
   "cell_type": "code",
   "execution_count": null,
   "metadata": {},
   "outputs": [],
   "source": []
  },
  {
   "cell_type": "code",
   "execution_count": null,
   "metadata": {},
   "outputs": [],
   "source": []
  }
 ],
 "metadata": {
  "kernelspec": {
   "display_name": "Python 3",
   "language": "python",
   "name": "python3"
  },
  "language_info": {
   "codemirror_mode": {
    "name": "ipython",
    "version": 3
   },
   "file_extension": ".py",
   "mimetype": "text/x-python",
   "name": "python",
   "nbconvert_exporter": "python",
   "pygments_lexer": "ipython3",
   "version": "3.7.3"
  }
 },
 "nbformat": 4,
 "nbformat_minor": 2
}
