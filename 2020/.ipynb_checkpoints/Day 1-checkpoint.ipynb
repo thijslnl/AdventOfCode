{
 "cells": [
  {
   "cell_type": "code",
   "execution_count": null,
   "metadata": {},
   "outputs": [],
   "source": [
    "def read_file(name):\n",
    "    return [int(line.rstrip('\\n')) for line in open(name)]"
   ]
  },
  {
   "cell_type": "code",
   "execution_count": null,
   "metadata": {},
   "outputs": [],
   "source": [
    "def day1a(data, check):\n",
    "    data.sort()\n",
    "    for l in data:\n",
    "        if check-l in data:\n",
    "            return l*(check-l)\n",
    "%timeit day1a(read_file('input/1.txt'), 2020)\n",
    "print(day1a(read_file('input/1.txt'), 2020))"
   ]
  },
  {
   "cell_type": "code",
   "execution_count": null,
   "metadata": {
    "scrolled": true
   },
   "outputs": [],
   "source": [
    "def day1a(data, check):\n",
    "    data.sort()\n",
    "    for l in data:\n",
    "        for ll in [i for i in data if i > l]:\n",
    "            if check-l-ll in data:\n",
    "                return l, ll, l*ll*(check-l-ll)\n",
    "%timeit day1a(read_file('input/1.txt'), 2020)\n",
    "print(day1a(read_file('input/1.txt'), 2020))"
   ]
  }
 ],
 "metadata": {
  "kernelspec": {
   "display_name": "Python 3",
   "language": "python",
   "name": "python3"
  },
  "language_info": {
   "codemirror_mode": {
    "name": "ipython",
    "version": 3
   },
   "file_extension": ".py",
   "mimetype": "text/x-python",
   "name": "python",
   "nbconvert_exporter": "python",
   "pygments_lexer": "ipython3",
   "version": "3.7.3"
  }
 },
 "nbformat": 4,
 "nbformat_minor": 2
}
