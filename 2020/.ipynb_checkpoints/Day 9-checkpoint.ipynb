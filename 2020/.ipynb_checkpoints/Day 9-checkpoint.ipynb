{
 "cells": [
  {
   "cell_type": "code",
   "execution_count": 2,
   "metadata": {},
   "outputs": [],
   "source": [
    "fileName = 'input\\\\9.txt'\n",
    "data = [int(line.rstrip('\\n')) for line in open(fileName)]"
   ]
  },
  {
   "cell_type": "code",
   "execution_count": 9,
   "metadata": {},
   "outputs": [
    {
     "name": "stdout",
     "output_type": "stream",
     "text": [
      "6.24 ms ± 45.8 µs per loop (mean ± std. dev. of 7 runs, 100 loops each)\n"
     ]
    }
   ],
   "source": [
    "def day9a(preamble=25):\n",
    "    for i in range(25, len(data)):\n",
    "        c = data[i]\n",
    "        sums = 0\n",
    "        for x in range(25):\n",
    "            if c-data[i-25+x] in data[i-25:i]:\n",
    "                sums = 1\n",
    "        if sums == 0:\n",
    "            break\n",
    "    return c\n",
    "%timeit day9a(25)\n",
    "print(day9a(25))"
   ]
  },
  {
   "cell_type": "code",
   "execution_count": 11,
   "metadata": {},
   "outputs": [
    {
     "name": "stdout",
     "output_type": "stream",
     "text": [
      "96.5 ms ± 1.36 ms per loop (mean ± std. dev. of 7 runs, 10 loops each)\n",
      "2942387\n"
     ]
    }
   ],
   "source": [
    "tar = day9a(25)\n",
    "def day9b(target):\n",
    "    for i in range(len(data)):\n",
    "        for p in range(1, len(data)-i):\n",
    "            if (sum(data[i:i+p]) >= c):\n",
    "                break\n",
    "        if sum(data[i:i+p]) == c:\n",
    "            break\n",
    "    return min(data[i:i+p])+max(data[i:i+p])\n",
    "%timeit day9b(day9a(25))\n",
    "print(day9b(day9a(25)))"
   ]
  },
  {
   "cell_type": "code",
   "execution_count": null,
   "metadata": {},
   "outputs": [],
   "source": []
  }
 ],
 "metadata": {
  "kernelspec": {
   "display_name": "Python 3",
   "language": "python",
   "name": "python3"
  },
  "language_info": {
   "codemirror_mode": {
    "name": "ipython",
    "version": 3
   },
   "file_extension": ".py",
   "mimetype": "text/x-python",
   "name": "python",
   "nbconvert_exporter": "python",
   "pygments_lexer": "ipython3",
   "version": "3.7.3"
  }
 },
 "nbformat": 4,
 "nbformat_minor": 2
}
