{
 "cells": [
  {
   "cell_type": "code",
   "execution_count": 136,
   "metadata": {},
   "outputs": [],
   "source": [
    "fileName = 'input\\\\10.txt'\n",
    "data = [int(line.rstrip('\\n')) for line in open(fileName)]\n",
    "data.extend([0, max(data)+3])\n",
    "data = sorted(data)"
   ]
  },
  {
   "cell_type": "code",
   "execution_count": 137,
   "metadata": {},
   "outputs": [
    {
     "name": "stdout",
     "output_type": "stream",
     "text": [
      "12.5 µs ± 187 ns per loop (mean ± std. dev. of 7 runs, 100000 loops each)\n",
      "2040\n"
     ]
    }
   ],
   "source": [
    "def p10a(adapters):\n",
    "    jolts={1:0, 2:0, 3:0}\n",
    "    for i, adapter in enumerate(adapters):\n",
    "        if i > 0:\n",
    "            jolts[adapter-adapters[i-1]] += 1\n",
    "    return jolts[1]*jolts[3]\n",
    "%timeit p10a(data)\n",
    "print(p10a(data))"
   ]
  },
  {
   "cell_type": "code",
   "execution_count": 138,
   "metadata": {},
   "outputs": [
    {
     "name": "stdout",
     "output_type": "stream",
     "text": [
      "438 µs ± 10.2 µs per loop (mean ± std. dev. of 7 runs, 1000 loops each)\n",
      "28346956187648\n"
     ]
    }
   ],
   "source": [
    "def p10b(steps, mem={}, n=0):\n",
    "    muts = sum(1 if m == max(list(steps.keys())) else mem[m] if m in mem else p10b(steps, mem, m) for m in steps[n])\n",
    "    if n not in mem:\n",
    "        mem[n] = muts\n",
    "    return muts\n",
    "%timeit p10b({a:[adapter for adapter in data if adapter <= a+3 and adapter > a] for a in data})\n",
    "print(p10b({a:[adapter for adapter in data if adapter <= a+3 and adapter > a] for a in data}))"
   ]
  },
  {
   "cell_type": "code",
   "execution_count": null,
   "metadata": {},
   "outputs": [],
   "source": []
  }
 ],
 "metadata": {
  "kernelspec": {
   "display_name": "Python 3",
   "language": "python",
   "name": "python3"
  },
  "language_info": {
   "codemirror_mode": {
    "name": "ipython",
    "version": 3
   },
   "file_extension": ".py",
   "mimetype": "text/x-python",
   "name": "python",
   "nbconvert_exporter": "python",
   "pygments_lexer": "ipython3",
   "version": "3.7.3"
  }
 },
 "nbformat": 4,
 "nbformat_minor": 2
}
